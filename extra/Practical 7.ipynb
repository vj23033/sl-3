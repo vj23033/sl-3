{
 "cells": [
  {
   "cell_type": "markdown",
   "id": "a98f98b8",
   "metadata": {},
   "source": [
    "**NAME: Sumeet Kumbar**\n",
    "\n",
    "Practical 7\n",
    "\n",
    "1. Extract Sample document and apply following document \n",
    "preprocessing methods: Tokenization, POS Tagging, stop words removal, Stemming and \n",
    "Lemmatization. \n",
    "2. Create representation of documents by calculating Term Frequency and Inverse \n",
    "Document Frequency."
   ]
  },
  {
   "cell_type": "code",
   "execution_count": 13,
   "id": "969b3f9b",
   "metadata": {},
   "outputs": [
    {
     "name": "stderr",
     "output_type": "stream",
     "text": [
      "[nltk_data] Downloading package punkt to\n",
      "[nltk_data]     C:\\Users\\ssume\\AppData\\Roaming\\nltk_data...\n",
      "[nltk_data]   Package punkt is already up-to-date!\n",
      "[nltk_data] Downloading package wordnet to\n",
      "[nltk_data]     C:\\Users\\ssume\\AppData\\Roaming\\nltk_data...\n",
      "[nltk_data]   Package wordnet is already up-to-date!\n",
      "[nltk_data] Downloading package averaged_perceptron_tagger to\n",
      "[nltk_data]     C:\\Users\\ssume\\AppData\\Roaming\\nltk_data...\n",
      "[nltk_data]   Package averaged_perceptron_tagger is already up-to-\n",
      "[nltk_data]       date!\n",
      "[nltk_data] Downloading package stopwords to\n",
      "[nltk_data]     C:\\Users\\ssume\\AppData\\Roaming\\nltk_data...\n",
      "[nltk_data]   Package stopwords is already up-to-date!\n"
     ]
    }
   ],
   "source": [
    "import nltk\n",
    "nltk.download('punkt')\n",
    "nltk.download('wordnet')\n",
    "nltk.download('averaged_perceptron_tagger')\n",
    "nltk.download('stopwords')\n",
    "from nltk import sent_tokenize\n",
    "from nltk import word_tokenize\n",
    "from nltk.corpus import stopwords"
   ]
  },
  {
   "cell_type": "code",
   "execution_count": 14,
   "id": "6bbd15b3",
   "metadata": {},
   "outputs": [],
   "source": [
    "text='Amidst the bustling city streets, the aroma of freshly baked bread wafted through the air, enticing passersby to stop and indulge. The sound of laughter and chatter filled the cozy café as friends gathered to catch up over steaming cups of coffee. Outside, the sky was painted with hues of orange and pink as the sun began its descent, casting a warm glow over the city skyline. Meanwhile, in a quiet corner of the park, an artist sat engrossed in painting a vivid landscape, capturing the beauty of nature with each stroke of the brush.'\n"
   ]
  },
  {
   "cell_type": "code",
   "execution_count": 15,
   "id": "b9e1b345",
   "metadata": {},
   "outputs": [
    {
     "name": "stdout",
     "output_type": "stream",
     "text": [
      "['Amidst the bustling city streets, the aroma of freshly baked bread wafted through the air, enticing passersby to stop and indulge.', 'The sound of laughter and chatter filled the cozy café as friends gathered to catch up over steaming cups of coffee.', 'Outside, the sky was painted with hues of orange and pink as the sun began its descent, casting a warm glow over the city skyline.', 'Meanwhile, in a quiet corner of the park, an artist sat engrossed in painting a vivid landscape, capturing the beauty of nature with each stroke of the brush.']\n"
     ]
    }
   ],
   "source": [
    "tokens_sents = nltk.sent_tokenize(text)\n",
    "print(tokens_sents)"
   ]
  },
  {
   "cell_type": "code",
   "execution_count": 16,
   "id": "8c54bca4",
   "metadata": {},
   "outputs": [
    {
     "name": "stdout",
     "output_type": "stream",
     "text": [
      "['Amidst', 'the', 'bustling', 'city', 'streets', ',', 'the', 'aroma', 'of', 'freshly', 'baked', 'bread', 'wafted', 'through', 'the', 'air', ',', 'enticing', 'passersby', 'to', 'stop', 'and', 'indulge', '.', 'The', 'sound', 'of', 'laughter', 'and', 'chatter', 'filled', 'the', 'cozy', 'café', 'as', 'friends', 'gathered', 'to', 'catch', 'up', 'over', 'steaming', 'cups', 'of', 'coffee', '.', 'Outside', ',', 'the', 'sky', 'was', 'painted', 'with', 'hues', 'of', 'orange', 'and', 'pink', 'as', 'the', 'sun', 'began', 'its', 'descent', ',', 'casting', 'a', 'warm', 'glow', 'over', 'the', 'city', 'skyline', '.', 'Meanwhile', ',', 'in', 'a', 'quiet', 'corner', 'of', 'the', 'park', ',', 'an', 'artist', 'sat', 'engrossed', 'in', 'painting', 'a', 'vivid', 'landscape', ',', 'capturing', 'the', 'beauty', 'of', 'nature', 'with', 'each', 'stroke', 'of', 'the', 'brush', '.']\n"
     ]
    }
   ],
   "source": [
    "tokens_words = nltk.word_tokenize(text)\n",
    "print(tokens_words)\n"
   ]
  },
  {
   "cell_type": "code",
   "execution_count": 17,
   "id": "960ab36b",
   "metadata": {},
   "outputs": [],
   "source": [
    "from nltk.stem import PorterStemmer\n",
    "from nltk.stem.snowball import SnowballStemmer\n",
    "from nltk.stem import LancasterStemmer\n"
   ]
  },
  {
   "cell_type": "code",
   "execution_count": 18,
   "id": "f3663e58",
   "metadata": {},
   "outputs": [
    {
     "name": "stdout",
     "output_type": "stream",
     "text": [
      "['amidst', 'the', 'bustl', 'citi', 'street', ',', 'the', 'aroma', 'of', 'freshli', 'bake', 'bread', 'waft', 'through', 'the', 'air', ',', 'entic', 'passersbi', 'to', 'stop', 'and', 'indulg', '.', 'the', 'sound', 'of', 'laughter', 'and', 'chatter', 'fill', 'the', 'cozi', 'café', 'as', 'friend', 'gather', 'to', 'catch', 'up', 'over', 'steam', 'cup', 'of', 'coffe', '.', 'outsid', ',', 'the', 'sky', 'wa', 'paint', 'with', 'hue', 'of', 'orang', 'and', 'pink', 'as', 'the', 'sun', 'began', 'it', 'descent', ',', 'cast', 'a', 'warm', 'glow', 'over', 'the', 'citi', 'skylin', '.', 'meanwhil', ',', 'in', 'a', 'quiet', 'corner', 'of', 'the', 'park', ',', 'an', 'artist', 'sat', 'engross', 'in', 'paint', 'a', 'vivid', 'landscap', ',', 'captur', 'the', 'beauti', 'of', 'natur', 'with', 'each', 'stroke', 'of', 'the', 'brush', '.']\n"
     ]
    }
   ],
   "source": [
    "stem=[]\n",
    "for i in tokens_words:\n",
    "  ps = PorterStemmer()\n",
    "  stem_word= ps.stem(i)\n",
    "  stem.append(stem_word)\n",
    "print(stem)\n"
   ]
  },
  {
   "cell_type": "code",
   "execution_count": 19,
   "id": "deb3aa10",
   "metadata": {},
   "outputs": [],
   "source": [
    "import nltk\n",
    "from nltk.stem import WordNetLemmatizer \n",
    "lemmatizer = WordNetLemmatizer()"
   ]
  },
  {
   "cell_type": "code",
   "execution_count": 20,
   "id": "d4459006",
   "metadata": {},
   "outputs": [
    {
     "name": "stdout",
     "output_type": "stream",
     "text": [
      "amidst the bustl citi street , the aroma of freshli bake bread waft through the air , entic passersbi to stop and indulg . the sound of laughter and chatter fill the cozi café a friend gather to catch up over steam cup of coffe . outsid , the sky wa paint with hue of orang and pink a the sun began it descent , cast a warm glow over the citi skylin . meanwhil , in a quiet corner of the park , an artist sat engross in paint a vivid landscap , captur the beauti of natur with each stroke of the brush .\n"
     ]
    }
   ],
   "source": [
    "lemmatized_output = ' '.join([lemmatizer.lemmatize(w) for w in stem])\n",
    "print(lemmatized_output)\n"
   ]
  },
  {
   "cell_type": "code",
   "execution_count": 21,
   "id": "842f0bff",
   "metadata": {},
   "outputs": [
    {
     "name": "stdout",
     "output_type": "stream",
     "text": [
      "['amidst', 'the', 'bustl', 'citi', 'street', ',', 'the', 'aroma', 'of', 'freshli', 'bake', 'bread', 'waft', 'through', 'the', 'air', ',', 'entic', 'passersbi', 'to', 'stop', 'and', 'indulg', '.', 'the', 'sound', 'of', 'laughter', 'and', 'chatter', 'fill', 'the', 'cozi', 'café', 'a', 'friend', 'gather', 'to', 'catch', 'up', 'over', 'steam', 'cup', 'of', 'coffe', '.', 'outsid', ',', 'the', 'sky', 'wa', 'paint', 'with', 'hue', 'of', 'orang', 'and', 'pink', 'a', 'the', 'sun', 'began', 'it', 'descent', ',', 'cast', 'a', 'warm', 'glow', 'over', 'the', 'citi', 'skylin', '.', 'meanwhil', ',', 'in', 'a', 'quiet', 'corner', 'of', 'the', 'park', ',', 'an', 'artist', 'sat', 'engross', 'in', 'paint', 'a', 'vivid', 'landscap', ',', 'captur', 'the', 'beauti', 'of', 'natur', 'with', 'each', 'stroke', 'of', 'the', 'brush', '.']\n"
     ]
    }
   ],
   "source": [
    "leme=[]\n",
    "for i in stem:\n",
    "  lemetized_word=lemmatizer.lemmatize(i)\n",
    "  leme.append(lemetized_word)\n",
    "print(leme)\n"
   ]
  },
  {
   "cell_type": "code",
   "execution_count": 22,
   "id": "b1fc2aa9",
   "metadata": {},
   "outputs": [
    {
     "name": "stdout",
     "output_type": "stream",
     "text": [
      "Parts of Speech:  [('amidst', 'IN'), ('the', 'DT'), ('bustl', 'NN'), ('citi', 'JJ'), ('street', 'NN'), (',', ','), ('the', 'DT'), ('aroma', 'NN'), ('of', 'IN'), ('freshli', 'JJ'), ('bake', 'NN'), ('bread', 'NN'), ('waft', 'NN'), ('through', 'IN'), ('the', 'DT'), ('air', 'NN'), (',', ','), ('entic', 'JJ'), ('passersbi', 'NN'), ('to', 'TO'), ('stop', 'VB'), ('and', 'CC'), ('indulg', 'VB'), ('.', '.'), ('the', 'DT'), ('sound', 'NN'), ('of', 'IN'), ('laughter', 'NN'), ('and', 'CC'), ('chatter', 'NN'), ('fill', 'VBP'), ('the', 'DT'), ('cozi', 'NN'), ('café', 'VBZ'), ('a', 'DT'), ('friend', 'NN'), ('gather', 'NN'), ('to', 'TO'), ('catch', 'VB'), ('up', 'RP'), ('over', 'IN'), ('steam', 'JJ'), ('cup', 'NN'), ('of', 'IN'), ('coffe', 'NN'), ('.', '.'), ('outsid', 'NN'), (',', ','), ('the', 'DT'), ('sky', 'NN'), ('wa', 'VBD'), ('paint', 'NN'), ('with', 'IN'), ('hue', 'NN'), ('of', 'IN'), ('orang', 'NN'), ('and', 'CC'), ('pink', 'VB'), ('a', 'DT'), ('the', 'DT'), ('sun', 'NN'), ('began', 'VBD'), ('it', 'PRP'), ('descent', 'NN'), (',', ','), ('cast', 'VBD'), ('a', 'DT'), ('warm', 'JJ'), ('glow', 'NN'), ('over', 'IN'), ('the', 'DT'), ('citi', 'JJ'), ('skylin', 'NN'), ('.', '.'), ('meanwhil', 'NN'), (',', ','), ('in', 'IN'), ('a', 'DT'), ('quiet', 'JJ'), ('corner', 'NN'), ('of', 'IN'), ('the', 'DT'), ('park', 'NN'), (',', ','), ('an', 'DT'), ('artist', 'NN'), ('sat', 'VBD'), ('engross', 'IN'), ('in', 'IN'), ('paint', 'NN'), ('a', 'DT'), ('vivid', 'JJ'), ('landscap', 'NN'), (',', ','), ('captur', 'VBP'), ('the', 'DT'), ('beauti', 'NN'), ('of', 'IN'), ('natur', 'NN'), ('with', 'IN'), ('each', 'DT'), ('stroke', 'NN'), ('of', 'IN'), ('the', 'DT'), ('brush', 'NN'), ('.', '.')]\n"
     ]
    }
   ],
   "source": [
    "print(\"Parts of Speech: \",nltk.pos_tag(leme))\n"
   ]
  },
  {
   "cell_type": "code",
   "execution_count": 23,
   "id": "a9457e60",
   "metadata": {},
   "outputs": [
    {
     "name": "stdout",
     "output_type": "stream",
     "text": [
      "['i', 'me', 'my', 'myself', 'we', 'our', 'ours', 'ourselves', 'you', \"you're\", \"you've\", \"you'll\", \"you'd\", 'your', 'yours', 'yourself', 'yourselves', 'he', 'him', 'his', 'himself', 'she', \"she's\", 'her', 'hers', 'herself', 'it', \"it's\", 'its', 'itself', 'they', 'them', 'their', 'theirs', 'themselves', 'what', 'which', 'who', 'whom', 'this', 'that', \"that'll\", 'these', 'those', 'am', 'is', 'are', 'was', 'were', 'be', 'been', 'being', 'have', 'has', 'had', 'having', 'do', 'does', 'did', 'doing', 'a', 'an', 'the', 'and', 'but', 'if', 'or', 'because', 'as', 'until', 'while', 'of', 'at', 'by', 'for', 'with', 'about', 'against', 'between', 'into', 'through', 'during', 'before', 'after', 'above', 'below', 'to', 'from', 'up', 'down', 'in', 'out', 'on', 'off', 'over', 'under', 'again', 'further', 'then', 'once', 'here', 'there', 'when', 'where', 'why', 'how', 'all', 'any', 'both', 'each', 'few', 'more', 'most', 'other', 'some', 'such', 'no', 'nor', 'not', 'only', 'own', 'same', 'so', 'than', 'too', 'very', 's', 't', 'can', 'will', 'just', 'don', \"don't\", 'should', \"should've\", 'now', 'd', 'll', 'm', 'o', 're', 've', 'y', 'ain', 'aren', \"aren't\", 'couldn', \"couldn't\", 'didn', \"didn't\", 'doesn', \"doesn't\", 'hadn', \"hadn't\", 'hasn', \"hasn't\", 'haven', \"haven't\", 'isn', \"isn't\", 'ma', 'mightn', \"mightn't\", 'mustn', \"mustn't\", 'needn', \"needn't\", 'shan', \"shan't\", 'shouldn', \"shouldn't\", 'wasn', \"wasn't\", 'weren', \"weren't\", 'won', \"won't\", 'wouldn', \"wouldn't\"]\n"
     ]
    }
   ],
   "source": [
    "sw_nltk = stopwords.words('english')\n",
    "print(sw_nltk)"
   ]
  },
  {
   "cell_type": "code",
   "execution_count": 24,
   "id": "fd3ff930",
   "metadata": {},
   "outputs": [
    {
     "name": "stdout",
     "output_type": "stream",
     "text": [
      "Amidst bustling city streets, aroma freshly baked bread wafted air, enticing passersby stop indulge. sound laughter chatter filled cozy café friends gathered catch steaming cups coffee. Outside, sky painted hues orange pink sun began descent, casting warm glow city skyline. Meanwhile, quiet corner park, artist sat engrossed painting vivid landscape, capturing beauty nature stroke brush.\n"
     ]
    }
   ],
   "source": [
    "words = [word for word in text.split() if word.lower() not in sw_nltk]\n",
    "new_text = \" \".join(words)\n",
    "print(new_text)"
   ]
  },
  {
   "cell_type": "code",
   "execution_count": 26,
   "id": "d9011300",
   "metadata": {},
   "outputs": [],
   "source": [
    "import pandas as pd\n",
    "from sklearn.feature_extraction.text import TfidfVectorizer"
   ]
  },
  {
   "cell_type": "code",
   "execution_count": 28,
   "id": "f594d632",
   "metadata": {},
   "outputs": [
    {
     "name": "stdout",
     "output_type": "stream",
     "text": [
      "       air   amidst       an       and    aroma   artist       as    baked  \\\n",
      "0  0.06178  0.06178  0.06178  0.185341  0.06178  0.06178  0.12356  0.06178   \n",
      "\n",
      "    beauty    began  ...      sun       the  through       to       up  \\\n",
      "0  0.06178  0.06178  ...  0.06178  0.679582  0.06178  0.12356  0.06178   \n",
      "\n",
      "     vivid   wafted     warm      was     with  \n",
      "0  0.06178  0.06178  0.06178  0.06178  0.12356  \n",
      "\n",
      "[1 rows x 68 columns]\n"
     ]
    }
   ],
   "source": [
    "# Sample document\n",
    "text = \"\"\"\n",
    "Amidst the bustling city streets, the aroma of freshly baked bread wafted through the air, enticing passersby to stop and indulge. \n",
    "The sound of laughter and chatter filled the cozy café as friends gathered to catch up over steaming cups of coffee. \n",
    "Outside, the sky was painted with hues of orange and pink as the sun began its descent, casting a warm glow over the city skyline. \n",
    "Meanwhile, in a quiet corner of the park, an artist sat engrossed in painting a vivid landscape, capturing the beauty of nature with each stroke of the brush.\n",
    "\"\"\"\n",
    "\n",
    "# Initialize the TfidfVectorizer\n",
    "tfidf_vectorizer = TfidfVectorizer()\n",
    "\n",
    "# Fit and transform the text\n",
    "tfidf_matrix = tfidf_vectorizer.fit_transform([text])\n",
    "\n",
    "# Get feature names\n",
    "feature_names = tfidf_vectorizer.get_feature_names_out()\n",
    "\n",
    "# Display TF-IDF representation\n",
    "tfidf_df = pd.DataFrame(tfidf_matrix.toarray(), columns=feature_names)\n",
    "print(tfidf_df)\n"
   ]
  },
  {
   "cell_type": "code",
   "execution_count": null,
   "id": "a51e8c2e",
   "metadata": {},
   "outputs": [],
   "source": []
  }
 ],
 "metadata": {
  "kernelspec": {
   "display_name": "Python 3 (ipykernel)",
   "language": "python",
   "name": "python3"
  },
  "language_info": {
   "codemirror_mode": {
    "name": "ipython",
    "version": 3
   },
   "file_extension": ".py",
   "mimetype": "text/x-python",
   "name": "python",
   "nbconvert_exporter": "python",
   "pygments_lexer": "ipython3",
   "version": "3.11.5"
  }
 },
 "nbformat": 4,
 "nbformat_minor": 5
}
