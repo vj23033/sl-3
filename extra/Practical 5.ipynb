{
 "cells": [
  {
   "cell_type": "markdown",
   "id": "d54566c4",
   "metadata": {},
   "source": [
    "**NAME : Sumeet Kumbar**\n",
    "\n",
    "**Practical 5**\n",
    "\n",
    "1. Implement logistic regression using Python/R to perform \n",
    "classification on Social_Network_Ads.csv dataset.\n",
    "\n",
    "2. Compute Confusion matrix to find TP, FP, TN, FN, Accuracy, Error rate, \n",
    "Precision, Recall on the given dataset."
   ]
  },
  {
   "cell_type": "code",
   "execution_count": null,
   "id": "ee7bd2d4",
   "metadata": {},
   "outputs": [],
   "source": []
  }
 ],
 "metadata": {
  "kernelspec": {
   "display_name": "Python 3 (ipykernel)",
   "language": "python",
   "name": "python3"
  },
  "language_info": {
   "codemirror_mode": {
    "name": "ipython",
    "version": 3
   },
   "file_extension": ".py",
   "mimetype": "text/x-python",
   "name": "python",
   "nbconvert_exporter": "python",
   "pygments_lexer": "ipython3",
   "version": "3.11.5"
  }
 },
 "nbformat": 4,
 "nbformat_minor": 5
}
